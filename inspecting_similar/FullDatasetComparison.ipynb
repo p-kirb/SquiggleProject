{
 "cells": [
  {
   "cell_type": "code",
   "execution_count": 109,
   "metadata": {},
   "outputs": [],
   "source": [
    "import time\n",
    "from ont_fast5_api.fast5_interface import get_fast5_file\n",
    "import pandas as pd\n",
    "import matplotlib.pyplot as plt\n",
    "import numpy as np\n",
    "import random\n",
    "import math"
   ]
  },
  {
   "cell_type": "code",
   "execution_count": 110,
   "metadata": {},
   "outputs": [],
   "source": [
    "def loadReads(f5_file=\"../../similar_testdata/similar_squiggles.fast5\", withMetadata=False):\n",
    "    '''\n",
    "        returns list of numpy arrays representing reads as well as dataframe containing reads metadata.\n",
    "    '''\n",
    "    print(\"reading squiggles file...\")\n",
    "    start = time.time()\n",
    "    reads = []\n",
    "    if withMetadata:\n",
    "        ids = []\n",
    "        length = []\n",
    "        with get_fast5_file(f5_file, mode=\"r\") as f5:\n",
    "            for read in f5.get_reads():\n",
    "                raw_data = read.get_raw_data()\n",
    "                reads.append(raw_data)\n",
    "                ids.append(read.read_id)\n",
    "                length.append(len(raw_data))\n",
    "\n",
    "        z = list(zip(ids, length))\n",
    "        print(f\"Took {time.time()-start} seconds.\\n\")\n",
    "        return reads, pd.DataFrame(z, columns=[\"id\", \"length\"])\n",
    "\n",
    "    else:\n",
    "        with get_fast5_file(f5_file, mode=\"r\") as f5:\n",
    "            for read in f5.get_reads():\n",
    "                raw_data = read.get_raw_data()\n",
    "                reads.append(raw_data)\n",
    "        print(f\"Took {time.time()-start} seconds.\\n\")\n",
    "        return reads"
   ]
  },
  {
   "cell_type": "code",
   "execution_count": 111,
   "metadata": {},
   "outputs": [],
   "source": [
    "def removeSpikes(sequence):\n",
    "    # print(\"removing spikes\")\n",
    "    # start = time.time()\n",
    "    \n",
    "    spikeThresh = 2000\n",
    "    returnList = [i for i in sequence if abs(i) < spikeThresh]\n",
    "    # print(f\"Took {time.time()-start} seconds.\\n\")\n",
    "\n",
    "    return returnList"
   ]
  },
  {
   "cell_type": "code",
   "execution_count": 112,
   "metadata": {},
   "outputs": [],
   "source": [
    "def zScoreNormalise(sequence):\n",
    "    # print(\"z-score normalising\")\n",
    "    # start = time.time()\n",
    "    \n",
    "    zScoreNormalised = np.zeros(len(sequence))\n",
    "    mean = np.mean(sequence)\n",
    "    standardDev = np.std(sequence)\n",
    "    zScoreNormalised = (sequence - mean) / standardDev\n",
    "    # print(f\"Took {time.time()-start} seconds.\\n\")\n",
    "\n",
    "    return zScoreNormalised"
   ]
  },
  {
   "cell_type": "code",
   "execution_count": 113,
   "metadata": {},
   "outputs": [],
   "source": [
    "def reduceResolution(sequence):\n",
    "    #resolution reduction method based on significant changes in values\n",
    "    # print(\"reducing resolution\")\n",
    "    # start = time.time()\n",
    "\n",
    "    thresh = 0.2\n",
    "\n",
    "    differences = []\n",
    "\n",
    "    for i in range(len(sequence)-1):\n",
    "        differences.append(abs(sequence[i+1] - sequence[i]))\n",
    "\n",
    "        differences.insert(0, 0)\t\t#inserting 0 at 0th index to compensate for shift\n",
    "\n",
    "    resReducedSquiggle = []\n",
    "    sig = 0\n",
    "    for i in range(len(sequence)):\n",
    "        if differences[i] > thresh:\n",
    "            sig = sequence[i]\n",
    "        resReducedSquiggle.append(sig)\n",
    "\n",
    "    # print(f\"Took {time.time()-start} seconds.\\n\")\n",
    "    \n",
    "    return resReducedSquiggle"
   ]
  },
  {
   "cell_type": "code",
   "execution_count": 114,
   "metadata": {},
   "outputs": [],
   "source": [
    "def squeezeTime(sequence):\n",
    "    # print(\"squeezing time\")\n",
    "    # start = time.time()\n",
    "    \n",
    "    timeNormalised = []\n",
    "    for i in range(1, len(sequence)):\n",
    "        if sequence[i] != sequence[i-1]:\n",
    "            timeNormalised.append(sequence[i])\n",
    "\n",
    "    # print(f\"Took {time.time()-start} seconds.\\n\\n\\n\")\n",
    "    return timeNormalised"
   ]
  },
  {
   "cell_type": "code",
   "execution_count": 115,
   "metadata": {},
   "outputs": [],
   "source": [
    "def fullNormalise(sequence):\n",
    "    '''\n",
    "    1) spike removal\n",
    "    2) z-score normalisation\n",
    "    3) resolution reduction\n",
    "    4) time squeezing\n",
    "    '''\n",
    "    s = sequence.copy()\n",
    "    s = removeSpikes(s)\n",
    "    s = zScoreNormalise(s)\n",
    "    s = reduceResolution(s)\n",
    "    s = squeezeTime(s)\n",
    "    return s"
   ]
  },
  {
   "cell_type": "code",
   "execution_count": null,
   "metadata": {},
   "outputs": [],
   "source": [
    "def normaliseDataset(squiggles, path=\"../../normalised/\"):\n",
    "    batchSize = 100\n",
    "    lastBatch = False\n",
    "    batchNo = 0\n",
    "    totalBatches = math.floor(len(squiggles)/batchSize)\n",
    "    while not lastBatch:\n",
    "        print(f\"Batch {batchNo} / {totalBatches}\")\n",
    "        if batchNo == totalBatches:\n",
    "            lastBatch = True\n",
    "            batch = squiggles[batchNo*batchSize:]\n",
    "        else:\n",
    "            batch = squiggles[batchNo*batchSize:(batchNo+1)*batchSize]\n",
    "\n",
    "        \n",
    "        for i in squiggles:\n",
    "            f = h5py.File(f\"{path}normalised-batch{batch}.hdf5\", \"a\")\n",
    "            dt = h5py.vlen_dtype(np.dtype(\"float32\"))\n",
    "            vectorsDset = f.create_dataset(\"vectors\", (len(batch),), dtype=dt)\n",
    "\n",
    "            for i in range(len(batch)):\n",
    "                normalised = fullNormalise(batch[i])\n",
    "                vectorsDset[i] = normalised\n",
    "                vectorsList.append(normalised)            \n",
    "\n",
    "        f.close()\n",
    "\n",
    "        batchNo += 1\n"
   ]
  },
  {
   "cell_type": "code",
   "execution_count": 116,
   "metadata": {},
   "outputs": [
    {
     "name": "stdout",
     "output_type": "stream",
     "text": [
      "reading squiggles file...\n",
      "Took 5.058533430099487 seconds.\n",
      "\n"
     ]
    }
   ],
   "source": [
    "allSquiggles, metadata = loadReads(withMetadata=True)"
   ]
  },
  {
   "attachments": {},
   "cell_type": "markdown",
   "metadata": {},
   "source": [
    "NB The slowest section by far is the \"reduceResolution\" function - optimisations should be first focussed on simplifying this function."
   ]
  },
  {
   "cell_type": "code",
   "execution_count": 117,
   "metadata": {},
   "outputs": [
    {
     "name": "stdout",
     "output_type": "stream",
     "text": [
      "removing spikes\n",
      "Took 0.2854642868041992 seconds.\n",
      "\n",
      "z-score normalising\n",
      "Took 0.026804208755493164 seconds.\n",
      "\n",
      "reducing resolution\n",
      "Took 6.522855520248413 seconds.\n",
      "\n",
      "squeezing time\n",
      "Took 0.010734081268310547 seconds.\n",
      "\n",
      "\n",
      "\n",
      "removing spikes\n",
      "Took 0.26627635955810547 seconds.\n",
      "\n",
      "z-score normalising\n",
      "Took 0.02706313133239746 seconds.\n",
      "\n",
      "reducing resolution\n",
      "Took 18.504704236984253 seconds.\n",
      "\n",
      "squeezing time\n",
      "Took 0.01617717742919922 seconds.\n",
      "\n",
      "\n",
      "\n",
      "removing spikes\n",
      "Took 0.323117733001709 seconds.\n",
      "\n",
      "z-score normalising\n",
      "Took 0.030600309371948242 seconds.\n",
      "\n",
      "reducing resolution\n",
      "Took 29.35622787475586 seconds.\n",
      "\n",
      "squeezing time\n",
      "Took 0.018991708755493164 seconds.\n",
      "\n",
      "\n",
      "\n"
     ]
    }
   ],
   "source": [
    "#normalSquiggles = [fullNormalise(i) for i in allSquiggles]\n",
    "\n",
    "normaliseDataset(allSquiggles)"
   ]
  }
 ],
 "metadata": {
  "kernelspec": {
   "display_name": "Python 3 (ipykernel)",
   "language": "python",
   "name": "python3"
  },
  "language_info": {
   "codemirror_mode": {
    "name": "ipython",
    "version": 3
   },
   "file_extension": ".py",
   "mimetype": "text/x-python",
   "name": "python",
   "nbconvert_exporter": "python",
   "pygments_lexer": "ipython3",
   "version": "3.10.6"
  },
  "orig_nbformat": 4
 },
 "nbformat": 4,
 "nbformat_minor": 2
}
