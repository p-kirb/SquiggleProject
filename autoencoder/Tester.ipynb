{
 "cells": [
  {
   "cell_type": "code",
   "execution_count": 1,
   "metadata": {},
   "outputs": [],
   "source": [
    "from ont_fast5_api.fast5_interface import get_fast5_file\n",
    "import pandas as pd\n",
    "from Settings import *\n",
    "from HelperFunctions import fullNormalise\n",
    "import LSTMAutoencoder\n",
    "import numpy as np\n",
    "from numpy.linalg import norm\n",
    "import time"
   ]
  },
  {
   "attachments": {},
   "cell_type": "markdown",
   "metadata": {},
   "source": [
    "1 - 00014eb4-4e2c-4087-ac24-57dea735b7b4\n",
    "\n",
    "2 - 601f7bc7-3c09-4a78-a9b7-097bddcde809\n",
    "\n",
    "3 - 1b6939ba-4a35-4696-bc6f-2ddb3368266e\n",
    "\n",
    "4 - 95c03c50-57a5-4092-9a5f-87182d06a12c\n",
    "\n",
    "5 - b6d8845b-3eec-42f6-9510-b8ba1fc1ec44\n",
    "\n",
    "\n",
    "1 <--> 2    90.1\n",
    "\n",
    "3 <--> 4    91.2\n",
    "\n",
    "4 <--> 5    95.9 or 90.1\n"
   ]
  },
  {
   "cell_type": "code",
   "execution_count": 2,
   "metadata": {},
   "outputs": [],
   "source": [
    "filepath = \"../../similar_testdata/similar_squiggles.fast5\"\n",
    "\n",
    "def loadReads():\n",
    "\n",
    "    print(\"reading squiggles file...\")\n",
    "    reads = []\n",
    "    ids = []\n",
    "    with get_fast5_file(filepath, mode=\"r\") as f5:\n",
    "        for read in f5.get_reads():\n",
    "            if read.read_id in subset:\n",
    "                raw_data = read.get_raw_data()\n",
    "                reads.append(raw_data)\n",
    "                ids.append(read.read_id)\n",
    "\n",
    "    return reads, ids"
   ]
  },
  {
   "cell_type": "code",
   "execution_count": 3,
   "metadata": {},
   "outputs": [
    {
     "name": "stdout",
     "output_type": "stream",
     "text": [
      "reading squiggles file...\n"
     ]
    },
    {
     "data": {
      "text/plain": [
       "['00014eb4-4e2c-4087-ac24-57dea735b7b4',\n",
       " '1b6939ba-4a35-4696-bc6f-2ddb3368266e',\n",
       " '601f7bc7-3c09-4a78-a9b7-097bddcde809',\n",
       " '95c03c50-57a5-4092-9a5f-87182d06a12c',\n",
       " 'b6d8845b-3eec-42f6-9510-b8ba1fc1ec44']"
      ]
     },
     "execution_count": 3,
     "metadata": {},
     "output_type": "execute_result"
    }
   ],
   "source": [
    "squiggles, ids = loadReads()\n",
    "ids"
   ]
  },
  {
   "cell_type": "code",
   "execution_count": 4,
   "metadata": {},
   "outputs": [
    {
     "data": {
      "text/plain": [
       "LSTM(\n",
       "  (lstm): LSTM(1, 200)\n",
       "  (fc): Linear(in_features=200, out_features=1, bias=True)\n",
       ")"
      ]
     },
     "execution_count": 4,
     "metadata": {},
     "output_type": "execute_result"
    }
   ],
   "source": [
    "model = LSTMAutoencoder.LSTM()\n",
    "model.load_state_dict(torch.load(model_path))\n",
    "model.eval()            #setting model to \"predict mode\""
   ]
  },
  {
   "cell_type": "code",
   "execution_count": 5,
   "metadata": {},
   "outputs": [
    {
     "name": "stdout",
     "output_type": "stream",
     "text": [
      "embedding 0...\n",
      "Took 15.782442569732666s.\n",
      "embedding 1...\n",
      "Took 23.97514319419861s.\n",
      "embedding 2...\n",
      "Took 35.45511484146118s.\n",
      "embedding 3...\n",
      "Took 27.64120388031006s.\n",
      "embedding 4...\n",
      "Took 14.246598958969116s.\n"
     ]
    }
   ],
   "source": [
    "from sklearn.preprocessing import MinMaxScaler\n",
    "scaler = MinMaxScaler(feature_range=(-1,1))\n",
    "stateHs = []\n",
    "stateCs = []\n",
    "for i in range(len(ids)):\n",
    "    print(f\"embedding {i}...\")\n",
    "    s = time.time()\n",
    "    x = fullNormalise(squiggles[i])\n",
    "\n",
    "    x = torch.tensor(scaler.fit_transform(x.reshape(-1, 1))).squeeze(-1)\n",
    "    x = x.type(torch.FloatTensor)\n",
    "\n",
    "    state_hAcc = []\n",
    "    state_cAcc = []\n",
    "\n",
    "    i = 0\n",
    "    for chunk in torch.split(x, sequenceLength):\n",
    "        i += 1\n",
    "        state_h = torch.zeros(1, hidden_size)\n",
    "        state_c = torch.zeros(1, hidden_size)\n",
    "\n",
    "        with torch.no_grad():\n",
    "            for value in chunk:\n",
    "                pred, (state_h, state_c) = model(value, (state_h, state_c))\n",
    "\n",
    "        state_hAcc.append(state_h.squeeze(0))\n",
    "        state_cAcc.append(state_c.squeeze(0))\n",
    "\n",
    "        \n",
    "    \n",
    "    stateHs.append(torch.mean(torch.stack(state_hAcc), dim=0))\n",
    "    stateCs.append(torch.mean(torch.stack(state_cAcc), dim=0))\n",
    "    print(f\"Took {time.time()-s}s.\")\n",
    "\n",
    "    "
   ]
  },
  {
   "cell_type": "code",
   "execution_count": 6,
   "metadata": {},
   "outputs": [
    {
     "name": "stdout",
     "output_type": "stream",
     "text": [
      "torch.Size([200])\n",
      "tensor([-4.5373e-03,  6.7985e-03, -9.1541e-03, -7.3665e-02,  3.2414e-03,\n",
      "        -1.0073e-02, -3.1867e-02, -3.6576e-02,  7.4433e-02,  3.7925e-02,\n",
      "         2.7838e-02,  3.3201e-02,  2.1279e-02, -1.1884e-02, -2.8673e-02,\n",
      "         3.3179e-02,  1.1229e-02,  1.6927e-02, -2.4000e-03,  1.2468e-01,\n",
      "         2.1081e-02,  5.2922e-03, -1.3932e-02, -3.5839e-02, -4.7292e-01,\n",
      "         1.4587e-02,  4.0346e-02,  4.4681e-03, -2.0754e-01,  9.6141e-03,\n",
      "        -1.3412e-02, -1.7826e-01, -1.6193e-02, -1.4085e-01,  3.5205e-02,\n",
      "         9.7193e-02,  3.9148e-03,  1.8299e-01, -1.2537e-01, -1.7144e-03,\n",
      "         4.6300e-02,  5.1215e-02, -1.6271e-01,  1.0593e-01,  1.8448e-02,\n",
      "        -7.6781e-03,  4.9559e-02, -4.6380e-02, -1.3024e-02,  1.9300e-02,\n",
      "         2.7752e-02,  1.6751e-02,  2.9881e-02,  1.8914e-01,  6.1130e-01,\n",
      "        -1.6562e-02,  6.9398e-03, -1.4370e-03,  6.4158e-02, -6.8973e-02,\n",
      "        -1.1417e-02,  6.9219e-02, -6.8066e-03, -6.2245e-04,  1.7441e-02,\n",
      "        -2.8285e-04, -2.1248e-02,  2.1130e-02,  9.1200e-02,  3.3360e-03,\n",
      "         1.7856e-01, -2.6598e-01,  2.2660e-02,  1.7389e-03,  8.5341e-03,\n",
      "        -1.9578e-01, -4.8180e-02, -7.7570e-02,  2.2255e-02, -1.0498e-01,\n",
      "         4.6341e-02,  1.0548e-02, -1.2651e-02, -2.9544e-02,  1.5058e-02,\n",
      "         2.2331e-03,  7.2298e-03,  2.0473e-03, -1.6475e-02,  1.3894e-03,\n",
      "         1.2844e-02, -6.9531e-02, -3.6204e-03, -5.5602e-01,  3.2681e-02,\n",
      "        -6.6166e-03, -7.7480e-04, -2.7748e-02,  2.5123e-03,  9.7881e-03,\n",
      "         3.6461e-01,  4.1432e-02,  5.8723e-02, -7.4173e-03,  1.9153e-02,\n",
      "        -4.3856e-03, -4.3951e-02,  2.4496e-01, -2.0178e-02, -1.3990e-02,\n",
      "        -2.4985e-03, -3.0398e-01, -1.8839e-01,  6.6556e-03, -1.0012e-02,\n",
      "         2.4564e-02, -2.5873e-02, -2.1504e-04,  1.0080e-01, -3.2357e-02,\n",
      "        -6.1227e-02, -3.3191e-02, -1.7986e-01,  1.2250e-02,  1.1417e+00,\n",
      "         1.9874e-01,  3.5063e-03,  6.1102e-03,  7.0605e-03,  5.0344e-02,\n",
      "        -3.0556e-04, -1.5858e-03, -3.8975e-03, -3.6401e-02,  1.6990e-02,\n",
      "        -2.3850e-03, -1.6329e-01, -2.5978e-04,  9.1954e-02, -1.4295e-02,\n",
      "        -3.9591e-02,  2.4412e-02,  1.8219e-01,  2.8602e-03,  1.2352e-01,\n",
      "        -1.9893e-02, -1.7991e-02, -1.2114e-01, -2.5686e-01,  3.3708e-02,\n",
      "         8.2290e-03, -2.9296e-02,  1.7014e-02,  7.5173e-02,  1.1606e-02,\n",
      "        -2.2957e-02, -7.4353e-02,  4.7404e-02, -1.2153e-01,  1.2544e-03,\n",
      "        -1.0399e-02, -1.3036e-02, -8.0230e-03, -5.3246e-04, -5.6511e-02,\n",
      "        -4.4450e-02, -8.4305e-02, -2.9837e-02, -4.3560e-04, -1.9049e-02,\n",
      "         3.7704e-03, -2.6960e-03,  3.6834e-03, -1.3765e-02, -2.3873e-02,\n",
      "         1.4540e-02, -1.4327e-02,  5.9453e-02,  3.2714e-02, -1.4142e-02,\n",
      "         5.7208e-03,  2.9832e-01, -2.1248e-03,  2.9286e-02, -2.2352e-02,\n",
      "         1.1114e-01,  4.5745e-02, -3.2016e-03, -3.1078e-01,  6.6084e-03,\n",
      "        -4.0549e-03, -1.5425e-01,  1.1302e-03,  1.8791e-01,  1.7001e-02,\n",
      "         9.5092e-03, -3.8105e-02, -1.7578e-02, -2.3315e-01, -6.0355e-02])\n"
     ]
    }
   ],
   "source": [
    "print(stateCs[1].shape)\n",
    "print(stateCs[1].squeeze(0))\n"
   ]
  },
  {
   "cell_type": "code",
   "execution_count": 7,
   "metadata": {},
   "outputs": [],
   "source": [
    "similartiesH = {}\n",
    "similartiesC = {}\n",
    "\n",
    "for i in range(len(ids)):\n",
    "    innerDictH = {}\n",
    "    innerDictC = {}\n",
    "    for s in range(len(ids)):\n",
    "        if s != i:\n",
    "            innerDictH[ids[s]] = str(np.dot(stateHs[i],stateHs[s])/(norm(stateHs[i])*norm(stateHs[s])))#str(norm(stateHs[i]-stateHs[s]))\n",
    "            innerDictC[ids[s]] = str(np.dot(stateCs[i],stateCs[s])/(norm(stateCs[i])*norm(stateCs[s])))#str(norm(stateCs[i]-stateCs[s]))\n",
    "\n",
    "\n",
    "    similartiesH[ids[i]] = innerDictH.copy()\n",
    "    similartiesC[ids[i]] = innerDictC.copy()\n"
   ]
  },
  {
   "cell_type": "code",
   "execution_count": 8,
   "metadata": {},
   "outputs": [],
   "source": [
    "import json\n",
    "\n",
    "with open(\"hSimilarties.json\", \"w\") as file:\n",
    "    json.dump(similartiesH, file)\n",
    "\n",
    "with open(\"cSimilarties.json\", \"w\") as file:\n",
    "    json.dump(similartiesC, file)"
   ]
  }
 ],
 "metadata": {
  "kernelspec": {
   "display_name": "Python 3 (ipykernel)",
   "language": "python",
   "name": "python3"
  },
  "language_info": {
   "codemirror_mode": {
    "name": "ipython",
    "version": 3
   },
   "file_extension": ".py",
   "mimetype": "text/x-python",
   "name": "python",
   "nbconvert_exporter": "python",
   "pygments_lexer": "ipython3",
   "version": "3.10.6"
  },
  "orig_nbformat": 4
 },
 "nbformat": 4,
 "nbformat_minor": 2
}
