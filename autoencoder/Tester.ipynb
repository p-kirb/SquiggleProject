{
 "cells": [
  {
   "cell_type": "code",
   "execution_count": 1,
   "metadata": {},
   "outputs": [],
   "source": [
    "from ont_fast5_api.fast5_interface import get_fast5_file\n",
    "import pandas as pd\n",
    "from Settings import *\n",
    "from HelperFunctions import fullNormalise\n",
    "import LSTMAutoencoder\n",
    "import numpy as np\n",
    "from numpy.linalg import norm\n",
    "import time"
   ]
  },
  {
   "attachments": {},
   "cell_type": "markdown",
   "metadata": {},
   "source": [
    "1 - 00014eb4-4e2c-4087-ac24-57dea735b7b4\n",
    "\n",
    "2 - 601f7bc7-3c09-4a78-a9b7-097bddcde809\n",
    "\n",
    "3 - 1b6939ba-4a35-4696-bc6f-2ddb3368266e\n",
    "\n",
    "4 - 95c03c50-57a5-4092-9a5f-87182d06a12c\n",
    "\n",
    "5 - b6d8845b-3eec-42f6-9510-b8ba1fc1ec44\n",
    "\n",
    "\n",
    "1 <--> 2    90.1\n",
    "\n",
    "3 <--> 4    91.2\n",
    "\n",
    "4 <--> 5    95.9 or 90.1\n"
   ]
  },
  {
   "cell_type": "code",
   "execution_count": 2,
   "metadata": {},
   "outputs": [],
   "source": [
    "filepath = \"../../similar_testdata/similar_squiggles.fast5\"\n",
    "\n",
    "def loadReads():\n",
    "\n",
    "    print(\"reading squiggles file...\")\n",
    "    reads = []\n",
    "    ids = []\n",
    "    with get_fast5_file(filepath, mode=\"r\") as f5:\n",
    "        for read in f5.get_reads():\n",
    "            if read.read_id in subset:\n",
    "                raw_data = read.get_raw_data()\n",
    "                reads.append(raw_data)\n",
    "                ids.append(read.read_id)\n",
    "\n",
    "    return reads, ids"
   ]
  },
  {
   "cell_type": "code",
   "execution_count": 3,
   "metadata": {},
   "outputs": [
    {
     "name": "stdout",
     "output_type": "stream",
     "text": [
      "reading squiggles file...\n"
     ]
    },
    {
     "data": {
      "text/plain": [
       "['00014eb4-4e2c-4087-ac24-57dea735b7b4',\n",
       " '1b6939ba-4a35-4696-bc6f-2ddb3368266e',\n",
       " '601f7bc7-3c09-4a78-a9b7-097bddcde809',\n",
       " '95c03c50-57a5-4092-9a5f-87182d06a12c',\n",
       " 'b6d8845b-3eec-42f6-9510-b8ba1fc1ec44']"
      ]
     },
     "execution_count": 3,
     "metadata": {},
     "output_type": "execute_result"
    }
   ],
   "source": [
    "squiggles, ids = loadReads()\n",
    "ids"
   ]
  },
  {
   "cell_type": "code",
   "execution_count": 4,
   "metadata": {},
   "outputs": [
    {
     "data": {
      "text/plain": [
       "LSTM(\n",
       "  (lstm): LSTM(1, 200)\n",
       "  (fc): Linear(in_features=200, out_features=1, bias=True)\n",
       ")"
      ]
     },
     "execution_count": 4,
     "metadata": {},
     "output_type": "execute_result"
    }
   ],
   "source": [
    "model = LSTMAutoencoder.LSTM()\n",
    "model.load_state_dict(torch.load(model_path))\n",
    "model.eval()            #setting model to \"predict mode\""
   ]
  },
  {
   "cell_type": "code",
   "execution_count": 5,
   "metadata": {},
   "outputs": [
    {
     "name": "stdout",
     "output_type": "stream",
     "text": [
      "embedding 0...\n",
      "Took 14.736856937408447s.\n",
      "embedding 1...\n",
      "Took 24.241739511489868s.\n",
      "embedding 2...\n",
      "Took 35.803487062454224s.\n",
      "embedding 3...\n",
      "Took 26.976184844970703s.\n",
      "embedding 4...\n",
      "Took 14.376818418502808s.\n"
     ]
    }
   ],
   "source": [
    "from sklearn.preprocessing import MinMaxScaler\n",
    "scaler = MinMaxScaler(feature_range=(-1,1))\n",
    "stateHs = []\n",
    "stateCs = []\n",
    "for i in range(len(ids)):\n",
    "    print(f\"embedding {i}...\")\n",
    "    s = time.time()\n",
    "    x = fullNormalise(squiggles[i])\n",
    "\n",
    "    x = torch.tensor(scaler.fit_transform(x.reshape(-1, 1))).squeeze(-1)\n",
    "    x = x.type(torch.FloatTensor)\n",
    "\n",
    "\n",
    "    state_h = torch.zeros(1, hidden_size)\n",
    "    state_c = torch.zeros(1, hidden_size)\n",
    "\n",
    "    with torch.no_grad():\n",
    "        for value in x:\n",
    "            pred, (state_h, state_c) = model(value, (state_h, state_c))\n",
    "\n",
    "        \n",
    "    \n",
    "    stateHs.append(state_h.squeeze(0))\n",
    "    stateCs.append(state_c.squeeze(0))\n",
    "    print(f\"Took {time.time()-s}s.\")\n",
    "\n",
    "    "
   ]
  },
  {
   "cell_type": "code",
   "execution_count": 6,
   "metadata": {},
   "outputs": [
    {
     "name": "stdout",
     "output_type": "stream",
     "text": [
      "torch.Size([200])\n",
      "tensor([-1.0935e-02,  9.7726e-03, -2.1554e-03,  1.1428e-01, -7.9250e-03,\n",
      "        -1.6848e-02,  2.9744e-02, -6.5192e-02,  1.8159e-01,  2.9580e-02,\n",
      "         5.7526e-02,  3.0739e-02, -5.8726e-03, -6.2711e-02, -3.3663e-02,\n",
      "         1.7028e-01,  6.5278e-02,  4.5522e-02, -3.7022e-03,  4.6695e-01,\n",
      "         6.2273e-02,  5.2979e-02, -1.8669e-02, -1.0796e-01, -8.2114e-01,\n",
      "         1.2053e-02, -3.6020e-02, -1.6950e-02, -2.9409e-01, -2.2709e-03,\n",
      "        -5.4857e-02, -8.7643e-02,  8.3787e-02, -7.6077e-02,  3.8581e-02,\n",
      "         9.8926e-02,  7.8070e-03,  1.5048e-01, -1.3851e-01, -2.3242e-02,\n",
      "         7.3932e-02,  1.2487e-01, -1.9899e-01,  2.4910e-01,  7.2757e-03,\n",
      "        -2.0467e-02, -6.7283e-02, -1.8049e-01, -2.7946e-03,  4.5130e-02,\n",
      "         9.5316e-02, -6.8784e-04,  6.4018e-02,  1.0933e-01,  5.5900e-01,\n",
      "        -2.1331e-02,  1.7065e-02, -5.0297e-03,  9.1622e-02, -1.4064e-01,\n",
      "         3.9317e-02,  8.2144e-02,  1.6671e-02,  2.0089e-02, -3.0577e-03,\n",
      "         1.1806e-02,  6.9573e-03,  4.4455e-02,  9.9739e-02,  2.7481e-02,\n",
      "         2.1994e-01, -2.1724e-01,  1.4833e-01,  5.9661e-02,  7.6088e-02,\n",
      "        -2.1685e-01, -1.7694e-01, -1.1745e-01,  3.9147e-02, -3.1253e-01,\n",
      "         3.6800e-01,  1.0467e-01, -1.6536e-02, -2.2243e-02,  3.4191e-02,\n",
      "         2.1224e-03, -6.4759e-03,  1.3772e-02,  1.2017e-02, -1.1910e-03,\n",
      "         1.2415e-02, -1.7705e-02,  2.6244e-03, -4.8306e-01,  4.2564e-03,\n",
      "        -6.4531e-02,  2.4533e-02, -6.0960e-02, -1.7354e-02,  1.8984e-02,\n",
      "         2.2921e-01,  2.1810e-02,  1.1483e-01, -1.1143e-02, -5.9904e-02,\n",
      "        -2.6445e-05, -3.9198e-02,  1.6613e-01, -1.6305e-02, -1.6465e-02,\n",
      "         1.6885e-02, -8.3071e-01, -5.1254e-02, -7.6251e-03, -4.7915e-02,\n",
      "         1.2000e-01, -7.6038e-02, -7.3024e-02,  1.0701e-01, -1.1461e-01,\n",
      "        -1.7938e-01,  3.0103e-03,  5.4818e-02,  2.3652e-02,  1.2355e+00,\n",
      "         2.0304e-01,  3.4118e-02,  6.1093e-03,  2.5734e-02,  3.3688e-02,\n",
      "         2.8063e-03,  3.0856e-02,  5.3019e-03, -2.8305e-02, -9.5932e-03,\n",
      "        -2.0685e-02,  7.5283e-02,  3.9016e-02,  1.3750e-01, -3.1627e-02,\n",
      "        -1.2582e-01,  5.2139e-02, -3.6721e-01, -2.8443e-02,  1.1500e-01,\n",
      "        -3.3401e-02, -4.1116e-02, -1.2059e-01, -7.8100e-02,  8.3402e-02,\n",
      "         2.5590e-02, -8.9495e-02, -8.9929e-03,  8.4332e-02,  3.0602e-02,\n",
      "        -7.7944e-02,  1.1261e-02,  8.1736e-02,  7.8178e-02, -3.7787e-02,\n",
      "        -1.4513e-02,  8.6967e-02, -5.8124e-03,  8.5407e-03, -1.2549e-01,\n",
      "        -5.4240e-02, -1.5885e-01, -4.0589e-03, -1.9620e-02,  7.4730e-02,\n",
      "         7.5030e-03, -8.9945e-02,  2.0402e-02, -3.1604e-02, -1.2057e-01,\n",
      "         3.5537e-02, -2.7085e-02,  8.9183e-02,  2.5480e-01, -6.6773e-03,\n",
      "         4.5993e-02,  2.8166e-02, -3.0079e-03,  7.1529e-02, -4.7363e-02,\n",
      "         5.7343e-02,  7.7743e-02,  2.6145e-02, -3.2316e-01,  5.1771e-03,\n",
      "        -5.3936e-04, -9.5346e-02, -9.6544e-03,  2.3166e-01,  2.8001e-02,\n",
      "         1.4227e-02, -2.5408e-02, -4.9553e-03,  7.4944e-02, -2.8645e-02])\n"
     ]
    }
   ],
   "source": [
    "print(stateCs[1].shape)\n",
    "print(stateCs[1].squeeze(0))\n"
   ]
  },
  {
   "cell_type": "code",
   "execution_count": 7,
   "metadata": {},
   "outputs": [],
   "source": [
    "similartiesH = {}\n",
    "similartiesC = {}\n",
    "\n",
    "for i in range(len(ids)):\n",
    "    innerDictH = {}\n",
    "    innerDictC = {}\n",
    "    for s in range(len(ids)):\n",
    "        if s != i:\n",
    "            innerDictH[ids[s]] = str(norm(stateHs[i]-stateHs[s]))#str(np.dot(stateHs[i],stateHs[s])/(norm(stateHs[i])*norm(stateHs[s])))\n",
    "            innerDictC[ids[s]] = str(norm(stateCs[i]-stateCs[s]))#str(np.dot(stateCs[i],stateCs[s])/(norm(stateCs[i])*norm(stateCs[s])))\n",
    "\n",
    "\n",
    "    similartiesH[ids[i]] = innerDictH.copy()\n",
    "    similartiesC[ids[i]] = innerDictC.copy()\n"
   ]
  },
  {
   "cell_type": "code",
   "execution_count": 8,
   "metadata": {},
   "outputs": [],
   "source": [
    "import json\n",
    "\n",
    "with open(\"hSimilarties.json\", \"w\") as file:\n",
    "    json.dump(similartiesH, file)\n",
    "\n",
    "with open(\"cSimilarties.json\", \"w\") as file:\n",
    "    json.dump(similartiesC, file)"
   ]
  }
 ],
 "metadata": {
  "kernelspec": {
   "display_name": "Python 3 (ipykernel)",
   "language": "python",
   "name": "python3"
  },
  "language_info": {
   "codemirror_mode": {
    "name": "ipython",
    "version": 3
   },
   "file_extension": ".py",
   "mimetype": "text/x-python",
   "name": "python",
   "nbconvert_exporter": "python",
   "pygments_lexer": "ipython3",
   "version": "3.10.6"
  },
  "orig_nbformat": 4
 },
 "nbformat": 4,
 "nbformat_minor": 2
}
